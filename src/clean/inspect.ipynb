{
 "cells": [
  {
   "cell_type": "markdown",
   "metadata": {},
   "source": [
    "## Inspect clean HUMAN data"
   ]
  },
  {
   "cell_type": "code",
   "execution_count": 3,
   "metadata": {},
   "outputs": [],
   "source": [
    "import pathlib\n",
    "import pandas as pd "
   ]
  },
  {
   "cell_type": "code",
   "execution_count": 4,
   "metadata": {},
   "outputs": [],
   "source": [
    "path = pathlib.Path.cwd()\n",
    "data_root = path.parents[1] / \"datasets\" / \"human_datasets\""
   ]
  },
  {
   "cell_type": "code",
   "execution_count": 5,
   "metadata": {},
   "outputs": [],
   "source": [
    "def load_data(dataset:str, data_rootdir:pathlib.Path()):\n",
    "    human_path = data_rootdir / dataset / \"data.ndjson\"\n",
    "    human_df = pd.read_json(human_path, lines=True)\n",
    "\n",
    "    return human_df"
   ]
  },
  {
   "cell_type": "code",
   "execution_count": 6,
   "metadata": {},
   "outputs": [],
   "source": [
    "def print_n_rows(df, n_rows, col):\n",
    "    '''print n first rows of a col in df'''\n",
    "    for _, row in df.head(n_rows).iterrows():\n",
    "        col_to_print = row[col]\n",
    "        print(\"_____\")\n",
    "        print(col_to_print)"
   ]
  },
  {
   "cell_type": "markdown",
   "metadata": {},
   "source": [
    "### DailyDialog"
   ]
  },
  {
   "cell_type": "code",
   "execution_count": 30,
   "metadata": {},
   "outputs": [],
   "source": [
    "daily_dialog = load_data(\"dailydialog\", data_root)"
   ]
  },
  {
   "cell_type": "code",
   "execution_count": 43,
   "metadata": {},
   "outputs": [
    {
     "name": "stdout",
     "output_type": "stream",
     "text": [
      "_____\n",
      "A: okay. this trail looks the best. it's a little steep. but i'm sure it will be alright. \n",
      "B: well. you're the tour guide, i'll follow you. \n",
      "A: ... what a stink. this place stinks like rotten eggs. \n",
      "B: that's sulphur you can smell. the whole of taiwan is a volcanic region. that's why taiwan has so many hot springs. it's volcanic activity.the sulfur smoke that you can smell is coming from those fumaroles over there.\n",
      "_____\n",
      "A: today is your birthday. first of all, happy birthday to you!\n",
      "_____\n",
      "A: in my wedding ceremony, where do my parents sit in the church? \n",
      "B: the bride's parents ' seating arrangement is on the left side of the aisle and the groom's parents is on the right side. \n",
      "A: do friends of the bride always sit on one side of the church and friends of the groom on the other?\n",
      "_____\n",
      "A: hey, what's the matter? \n",
      "B: it doesn't matter. i just feel a little dizzy. \n",
      "A: are you sure that this has nothing to do with sleep?\n"
     ]
    }
   ],
   "source": [
    "print_n_rows(daily_dialog, 4, \"source\") # nb \"annotations\" col has the number of turns in the convo and they match!!\n",
    "#print_n_rows(daily_dialog, 4, \"annotations\")"
   ]
  },
  {
   "cell_type": "code",
   "execution_count": 44,
   "metadata": {},
   "outputs": [
    {
     "name": "stdout",
     "output_type": "stream",
     "text": [
      "_____\n",
      "A: suddenly the \"great outdoors\" isn't so appealing. let's hike a little faster ...\n",
      "_____\n",
      "B: thank you for coming. we will have dinner outside. eat up!\n",
      "_____\n",
      "B: they usually do.\n",
      "_____\n",
      "B: i don't know.\n"
     ]
    }
   ],
   "source": [
    "print_n_rows(daily_dialog, 4, \"human_completions\")"
   ]
  },
  {
   "cell_type": "code",
   "execution_count": 38,
   "metadata": {},
   "outputs": [
    {
     "name": "stdout",
     "output_type": "stream",
     "text": [
      "A: i have a terrible toothache. \n",
      "B: which tooth is it? \n",
      "A: (pointing) this one here. \n",
      "B: ah, yes. there's big cavity. \n",
      "A: can you fill it? \n",
      "B: i'm afraid not. the tooth is too far gone. it'll have to be taken out. \n",
      "A: then i might as well have it out now.\n",
      "\n",
      "\n",
      "B: you'd better wait. the gums are swollen. take the medicine i prescribe and come back in three days.\n",
      "{'n-turns': 7, 'source-emo': [5, 0, 0, 0, 0, 0, 0], 'comp-emo': 0, 'source-act': [1, 2, 1, 1, 2, 3, 3], 'comp-act': 3}\n"
     ]
    }
   ],
   "source": [
    "n_row = 50\n",
    "print(daily_dialog[\"source\"][n_row])\n",
    "print(\"\\n\")\n",
    "print(daily_dialog[\"human_completions\"][n_row])\n",
    "print(daily_dialog[\"annotations\"][n_row])"
   ]
  },
  {
   "cell_type": "markdown",
   "metadata": {},
   "source": [
    "## Stories"
   ]
  },
  {
   "cell_type": "code",
   "execution_count": 10,
   "metadata": {},
   "outputs": [],
   "source": [
    "stories = load_data(\"stories\", data_root)"
   ]
  },
  {
   "cell_type": "code",
   "execution_count": 11,
   "metadata": {},
   "outputs": [
    {
     "name": "stdout",
     "output_type": "stream",
     "text": [
      "_____\n",
      "your free trial of life has ended\n",
      "_____\n",
      "- you either die a hero. . .''\n",
      "_____\n",
      "just like old times, huh?''\n",
      "_____\n",
      "it all happened so suddenly''\n",
      "_____\n",
      "the city at night in the winter.\n",
      "_____\n",
      "write a story about your username\n",
      "_____\n",
      "when the hero becomes the villain\n",
      "_____\n",
      "hit me in the face with emotion.\n",
      "_____\n",
      "writing workshop # 12: happiness\n",
      "_____\n",
      "humans do not inhabit the earth.\n"
     ]
    }
   ],
   "source": [
    "print_n_rows(stories, 10, \"source\")"
   ]
  },
  {
   "cell_type": "code",
   "execution_count": 12,
   "metadata": {},
   "outputs": [
    {
     "name": "stdout",
     "output_type": "stream",
     "text": [
      "_____\n",
      "overpopulation'' <newline> <newline> the man in the blue suit clicked a small remote in his hand and the screen filled with images of starving children, their eyes like rough marbles pushed not quite far enough into their heads, fantastic, horizon-filling cities that smoked and glowed like a dying fire, and, of course, the typical image of the tokyo metro with passengers being crammed through the car doors by impassive uniformed men. <newline> <newline>it's reality. a horrible one. the time has come to rectify it, and the hour for half measures is past.we're in a position to possibly,'' the man in the blue suit paused, dipping his chin in a show of humility, save humanity from itself.'' <newline> <newline> the boardroom was silent. smoke from various cigarettes and cigars drifted over the massive tabletop. rain pattered on the window panes. <newline> <newline> mental projection, physical control.'' the man in the blue suit clicked his controller again, and now a video of a man walking appeared on the screen. waves emanated from an unknown source and struck him. he stopped in his tracks. <newline> <newline> this is a rough draft of what every man, woman, and child on earth will see. we can tweak the language, of course.'' click. <newline> <newline> the screen faded to black and a few crisp lines of text in a modern font appeared. <newline>'your free trial of life has ended. payment, in full, of one life must be completed within five minutes.' <newline> <newline> the man in the blue suit clicked again. the screen flicked to a scene where the same man was now standing on a city street. he blinked his eyes, staring at the people around him. an old man sat on a bench, waiting for a bus. the originalman's face became distraught. he stared at the old man, perhaps trying to judge just how old he was. his face changed, and his fist clenched. suddenly, a man walking on the street behind the old man on the bench turned and wrapped his hands around the oldman's throat. a car accelerated, jumping the curb and crushing several people against the wall of a building. a crash of glass was heard and the body of a woman fell down into the street, her head cracking open on the pavement. <newline> <newline> the man in the blue suit clicked the button again, stopping the video. <newline> <newline> i think you get the idea. total chaos for a few years. maybe even a decade. but then we can rebuild- start over with the knowledge we should have had the first time. and the best part is-'' he leaned onto the table, looking at each of the attendees in turn. you all are exempt from the whole thing.'' <newline> <newline> there was a slight pause. a cough. <newline> <newline> all those in favor?'' <newline> <newline> a chorusof'aye' <newline> <newline> all those opposed?'' <newline> <newline> silence.\n",
      "_____\n",
      ". . . <newline>. . . <newline> she was shaking, i was too, he was dead. blood on my hands, i hoped there was still light behind my eyes. i never killed a man before, i never had to save someone before. i didn't feel good, or mighty. she broke, slumped to the ground, her body, a tremor as she sobbed. i dropped the knife, i turned to look at what i had done. she shouted my name through tears. he had so much red on his stomach, his throat was open too. i did that? i did that, i had to. i said as much out loud. again she shouted my name. i couldn't touch her though. she is so white, and i haven't decided if now i am dark. i didn't feel tainted, my heart was still beating so fast. i took a long hard breath, he is dead and so is his intent, we are alive because i would not allow him to have his way. again she shouts, buti'm deep in thought. another long breath. i came to a conclusion. i killed a man today, i did the right thing, i beat him to the punch, andi'm still here and i still have to take care of her. <newline> <newline> i told her to stand, nicely, i offered her a meek smile, and apologized for what she had seen and what i had to do. i started to explain why, but fuck it, she can't hear anything, *she's in shock boone, get her inside*. i walk her up the street, she remembers she can't walk in heels. she sees the life on my hands, and that sets her off again. we go inside a shitty mexican restaurant. i sit her down, i go to wash my hands. i do it with my closed,i'm not sure if i wan na look at the guy who looks back at me above the sink.i'm not sure if i wan na be the voice on the phone to the police. i puke in the sink, maybe some got on my shoes. <newline> <newline> what the hell am i doing?\n",
      "_____\n",
      "the first punch gets me right in the ribs, knocking the wind out of me. i half-crawl towards him from where i fell on my ass, feeling the flush of adrenaline starting to take hold. <newline> <newline>it's a dirty fight, i suppose. we focus on causing as much pain as possible - cruel to be cruel. he stinks. <newline> <newline> ******** <newline> <newline> the actual first punch was somewhat expected. the sun was hot, uncomfortably so, but we felt obligated to enjoy it. the ground in our neighbourhood was both more and less interesting in the summer. deep cracks and canyons traced out a huge map that stretched from his backyard to the fabled danger-zone of the main road, but it lacked the fascination of living and moving insects, driven underground by drought. <newline> <newline> what else could two boys do, but fight? it was fun. we laughed afterwards. we compared bruises for weeks; his turned yellow first. <newline> if there was blood, i don't remember it. <newline> <newline> we both of stunk afterwards. of sweat and dirt and pure heat. <newline> <newline> ******** <newline> <newline>he's lost weight - or, rather, is in the process of losing it. the bones in his wrists are becoming visible. <newline> <newline>it's summer again, not that you would know with the blinds so thick.they've trapped the air, andit's warm without any real heat. <newline> <newline> cliché, really, to be like this now. *he was such a nice kid. . . * everyone was. everyone is. i haven't reconnected, run into him on the street; people fall by inches. <newline> <newline> he starts to cry. not like in the movies.it's mostly snot ( mixed with a little blood ). drool begins to gather at the corners of his mouth. i have to look away. <newline> <newline>\n",
      "_____\n",
      "it all happened so suddenly. <newline> <newline> thats all i could think about as my feet thundered across the rubble stricken ground, i couldn't see anyone else about, at least. . anyone able to move. the bodies of those who didn't make it laid all around, drooping out of windows and crunched up into corners, still twitching lightly. <newline> <newline> some of the fumes were still around, accidentally walking into a patch of the thick white smoke would make you cough harshly and make you light headed for several minutes. but long time exposure could leave the person unable to move and they would eventually go insane, stuck sitting down occasionally laughing. <newline> <newline> it all happened so suddenly, who would have thought legalising weed would do this?\n",
      "_____\n",
      "the night air formed ice to my face as puffs of smoke bellowed out from my mouth. the snow fell around me making a hushing sound, a quiet and breeze. the night sky glowed in the light of the cars and buildings that littered the city that was accompanied by the constant hum of the traffic buzzing from all directions. i walked down the street towards the city’s park with the sounds of crunching under my feet. this is where i came to relaxed myself when things got tense, when life got hard, and i needed to do something, anything to distract myself. making my way over to thepark's bench, the movement of something on it caught my attention. i walked a bit closer, examining the dark brown fabric as it moved up and down slowly. it was a person. <newline> <newline> “ hello? ” i whispered, as to not startle him. <newline> <newline> he groaned while he pushed himself up to face me, leaning on his right shoulder. the face of the man was that of an old man grafted onto the body of someone younger. he looked worn before his days. <newline> <newline> “ please don’t report me. ” he spoke quietly, he sat up wrapping the small blanket around him even tighter than i thought was possible. pushing my hair behind my ear, i unzipped my coat placed it around my shoulders and sitting down beside him. <newline> <newline> “ i won’t. ” we sat and watch the snow fall collecting itself and growing more than an inch higher than it had been when i arrived. our breaths slowly fell into rhythm with the sounds that echoed throughout the city a paced sound that grew and shrank with the passing of each car. <newline> “ come back to my place. ” i said breaking the silence between us, his ears face had started to redden and his body looked stiff. he only stared back. “ it’s warm, and i have a spare bedroom you could use. if you don’t like it, you don’t have to stay. ” there was something in eyes. something of a look of wonder, or hope, or sadness. he nodded, and stood, all without saying a word. <newline> <newline> the trip seemed far shorter than the trip there, passing screaming vendors and flashing lights until we arrived at my house. the inside of the house fiercely juxtaposed the outside, dim and quiet and greeted us with a heat that felt unnatural as we entered. <newline> <newline> “ there’s a washroom down there. ” i said pointing down the hallway then taking my coat back from him. “ living room is there, make yourself at home. i’ll make some tea. ” <newline> <newline> the man sat himself down on the couch as i walked into the kitchen. <newline> <newline> minutes later i walked in the room to be greeted with the man almost asleep. <newline> “ so ” i began “ what’s your name? ” <newline> <newline> “ chris. ” he spoke, his voice as soft as the falling snow. i looked down. i wasn’t sure what to say. <newline> <newline> “ that’s…a nice name. ” i chuckled to myself and took a sip of the tea. <newline> <newline> “ why? ” his voice cutting in sharp in the night. <newline> <newline> “ hm? ” <newline> <newline> “ why are you doing this? you invite a stranger into your home. for all you know, i could be a murderer or a thief or a- “ <newline> <newline> “ well, are you? ” i cut in. <newline> <newline> “ well, uh, ” he looked down “ no. ” <newline> <newline> “ well that’s good that’s established. ” the silence stretched on a while more. <newline> <newline> “ i know what its like. ” i said, “ i know what it’s like to be lost, and lonely and to have nowhere to go. all i wanted when i was out on that bench was someone to take me in, to give me a nice hot cup of tea. no questions asked. so, that’s what i did. ” he turned to me, with his eyes, his sad eyes, a shimmering grey. “ i ask nothing in return. ” <newline> <newline> with that we talked, and talked until morning, until one of us had fallen asleep in the quiet company of the other. i awoke to the lights shining in through the window, casting beautiful reds and yellows onto the wall. where the man had sat earlier in the night was now an empty indent in the couch, containing a note. <newline> <newline> “ thank you. ”\n",
      "_____\n",
      "i won't ever forget them. i *can't* ever forget them. <newline> <newline> they raised me, they taught me what makes me the man i am today;they're my family. up until that night, i didn't have a care in the world. i was walking on air. ( pardon the pun ) <newline> <newline> then came tony zucco, then came that fateful night, and there went my parents.i'm not the first kid to lose his parents thanks to a criminal who didn't know them, who didn't care who they were; i know that. *he* likes to remind me of that. <newline> <newline> him. bruce. batman. <newline> <newline>i've never viewed him as a father. a mentor, of course, but never really a father; not that he views it that way. yes,he's taught me all i know about crime fighting, andhe's protected me and saved me more times than i can remember, buti'm always in his shadow. always will be. <newline> <newline> maybethat's the reason. maybethat's why i feel like this, why i look at him that way; i want his approval. i want him to view me as an equal, as a partner. but that will never happen. the world *needs* batman, it *needs* a dark knight. . . and that dark knight *needs* to be the father he never had. <newline> <newline> i knowhe's protecting me, and i knowit's because he cares, but i can take care of myself.i'm not that same kid who thought his world was over when he watched his parents plummet from the same heights he now scales every night.i've grown and learned and healed. the same can't be said for bruce. <newline> <newline> call it daddy issues,'' call it an infatuation,'' call it whatever you want, but i know what it is.it's care.it's protection.it's love. we protect each other, we have each others' backs, buthe'll never view me the same way. not even as an equal.i'll always be the trainee,'' always one level below him. <newline> <newline> andhe'll always be the dad he wish he had. andi'll always be the kid he saved.'' andi'll always be in his stupid, iconic shadow. but in that shadow, i see who he truly is, i see how he truly cares. <newline> <newline> to mehe'll always be the one i look up to, the one i strive to be, and the onei'll always want. <newline> <newline> but to him,i'll always be his son. <newline>\n",
      "_____\n",
      "peter parker cradled the lifeless body of mary jane watson-parker in his arms, as the loud laughter of a critically wounded norman osborn echoed through a shocked-into-silence times square. peter has had his mask shredded beyond recognition, once again revealing to the world of his secret identity, but he didn't care. for the second time, norman osborn has taken away the woman he loved. peter set the woman down, resting her head carefully on the ground. <newline> <newline> the man slowly stood up and turned towards norman, tears welling in theman's eyes. norman spat blood and pushed himself away from the crushed taxi he was formerly ensnared in. just another couple of blocks and we could have a repeat at the bridge for old times sake, spider-man.'' he wiped a bloodied maw on the back of his glove and reached for his belt. <newline> <newline> parker said nothing, walking to norman with a haunted expression on his face. the green goblin removed a pumpkin-shaped bomb from his belt and primed the trigger. don't worry, parker!you'll join the skank in hell soon enough!'' he hoisted the bomb up and tossed it, laughing like a man possessed. <newline> <newline> the bomb was ensnared with a shot of webbing fromparker's left wrist. he spun on an ankle and discus tossed the bomb back, just as norman took to a run;they'd had this dance countless times before. the bomb was little more than a distraction, a quick run and call of the glider and norman was back in the air. <newline> <newline> only this time he wasn't alone. parker was with him this time. the two struggled, and the glider was veered off course, smashing through the window of a ground-floor shop. osborn tumbled and was caught by a right handed hook. a nose shatters. another punch, this one equally as careless, equally as rough as one thrown by a man with nothing left. <newline> <newline> osborn was sent sliding across the ground, back into the rear wall of the shop. the staff flees for their lives, and parker begins his approach, still just as silent as his pursuit began. the goblin struggles to stand. parker,i've ruined your life. what are you going to do this time? make a deal with the devil? mope and cry? it doesn't matter.i've won.i've won.'' he stammers. <newline> <newline>parker's hands fold around thegoblin's throat. the two struggle. the goblin jabs a hidden knife into hisattacker's ribs, but this results in a tightened grip. eventually, thegoblin's struggle to cause as much damage as possible is cut short. the man struggles to breathe, and after just a few more moments, he ceases to move, an permanent grin of victory plastered on his face. <newline> <newline> parker slowly stands up and turns back towards the street.he's illuminated by countless spotlights. a crowd stares at him in horror, news vans begin to report the murder of norman osborn. as he walks out into times square,he's confronted by iron man and a handful of the avengers. <newline> <newline> three months later, peter spider-man'' parker sits alone in a cell at the raft. he runs a hand across his unshaven jawline and pushes himself off of his cot, his attention drawn across the front of the cell at the gaps between the reinforced bars. <newline> <newline> *was it worth it? * he thought to himself. *was killing norman osborn going to make the world a better place? did i do more good avenging mary jane with his death and thus consigning myself to prison for the rest of my life? there are villains now, villains with an agenda against me, and nowthey're going to be running free. how many lives did i end by proxy by being locked up in here? how many uncle bens are being created in this hour alone? * <newline> <newline> *uncle ben. if he could see me now, * he thought. *if he could see me now. * peter parker sat down on his cot once more and wept. <newline>\n",
      "_____\n",
      "i wrote a paper once. yeah, i know that’s super vague. look. i was in tenth grade. it was in creative writing. the task was to write about our strongest memory. the class was taught by an incredibly intelligent and kindhearted professor in her mid-twenties. she immediately connected with the entire class on a level that isn’t wholly explainable. it was just like she fit; not as a teacher, but as our friend. <newline> <newline> anyway, the point was to script a memory and i chose one of my darker ones. a friend of mine had taken her life at the early age of eleven, right after my twelfth birthday. <newline> <newline> it utterly destroyed my entire being. <newline> <newline> so being the morbid child i was, you can guess what i chose to write about. scripting everything i could in the most elaborate way possible i took the vantage point of my eleven year old self, simple language included. it came perfectly together, as if i had written the piece when it happened. <newline> <newline> and standing back, reading it absolutely blew my mind. <newline> i was remembering the phone call on my birthday, <newline> remembering my mom crying at the kitchen counter. <newline> it all flooded back, getting there and not wanting to leave the limo, the part where my dad had yelled at me after sobbing to loudly in the church. i remember running out into the cold and collapsing in tears in the graveyard by the church. i remembered sitting in the snow sobbing while snowflakes kissed my cheeks and neck. i bawled until my sides hurt, and cried some more after that. then i wrote about my father, being silently disappointed that i hadn’t held it together. he always cared more about how things looked. i poured all of my heart into this paper. it may as well have been written in my own tears. and when i handed it in, my professor said that i had personally touched her heart. it was such a wonder to finally have shared the memory. i was relieved that i had gotten the death of my friend out in the open. <newline> <newline> but i have a confession to make. the paper i wrote then was filled with lies. i was mortified to explain the real truth, disgusted with myself for ever having done it. for ever even having considered doing it. the truth is that i had never gone to the funeral. the truth is that instead of wish my best friend in the world her last goodbyes, instead of sending off the only person that had been there for me after my dad abused me, and stood by me through two suicide attempts and just as many hospitalizations, i chose to sit alone in my room and rock back and forth sobbing to myself.\n",
      "_____\n",
      "“ i think that’s everything. all personal items packed up, all the final paperwork filed. nothing left to do but get out of here. ” <newline> <newline> “ congrats, old-timer. may you find peace in your retirement. ” <newline> <newline> the last word struck him like a sledgehammer to the chest. retirement. he spent so long trying to get there. the reality of the unknown had never hit him until now. day after day he sat through scheduled meetings, wrote reports to meet deadlines and filed timely paperwork. it was all supposed to help him get closer to this day, the final day. at last, his days would belong only to himself. he could start on the list of things he had always wanted to do. he was consumed by the prospect of potential joy. <newline> <newline> “ to be honest. i kinda hope i don’t, ” he said. “ in fact, peace may be the only way i won’t enjoy my retirement. ” <newline> <newline> “ i hear what you’re saying. carpe that diem. ” <newline> <newline> the corners of the old man’s lips curved upward without his mouth opening. he placed the cardboard box of his belongings down on the young man’s desk. he began shifting and removing various items as he searched. <newline> <newline> “ got it, ” he muttered. he looked at his young, now former colleague as his arm rose out of the box holding a dull, silver-faced watch with a weathered, black leather band. he held the face up to the young man. <newline> <newline> “ this was a ‘ new job’gift from my parents. it was given to me the weekend before my first day. it was the shiniest thing i had ever owned up to that point in my life. ” <newline> <newline> “ looks like its seen better days. ” <newline> <newline> fighting back a growing grin, the old man responded, “ haven’t we all. ” he placed the watch flat in front of the young man. <newline> <newline> “ the damn thing stopped not even an hour into my first day here. ” <newline> <newline> “ never got it fixed? ” <newline> <newline> “ the next weekend i did. then the next monday came around and the damn thing stopped again. ” he grabbed the watch once again and held it upright by the crinkly band. <newline> <newline> “ after two more weekend repairs, i finally gave up on the thing. but seeing how it was a gift, i didn’t want to get rid of the thing. so i kept it in my desk. top drawer. ” <newline> <newline> he pulled open the same drawer of the young man’s desk and swept aside a small stack of papers to make room. he then placed the watch into the space like a mother placing her infant into their crib for the very first time. <newline> <newline> “ i’m happy today. terrified about what tomorrow morning is going to look like, but happy that whatever happens will not be what has happened for the last 35 years. so i want you to have this watch as a reminder. ” <newline> <newline> “ i can’t take that. it’s been with you too long. ” <newline> <newline> the old man ignored the plea as he repacked his belongings. when he was all done, he held the box in front of his chest and finally responded. <newline> <newline> “ the joke around the office back then was that time stopped whenever i was at work. ya know, dragging on and on. but that’s not what i want you to take from this. it’s a terrible joke and not even true. time doesn’t stop. if you’re in a place where it feels that way, know that time does go on. it is simply leaving you behind. ” the old man paused. he took a deep breath and once and for all blew out any ill feelings he had about his time in that office. <newline> <newline> “ like i told you, i am happy today. but when i look at you i wonder how much happier i could’ve been if i had packed my things up when i was your age. ” <newline>\n",
      "_____\n",
      "this world is dying. <newline> <newline> the star that once warmed it now swells and heats it to the point ofit's once bountiful oceans are now but miserable shadows of their former glory. the star was nearing the endit's seemingly endless life. this was their home. this was to be our tomb. <newline> <newline> we waged wars with the humans for many generations, natural enemies from first contact. any peace that was to be had between us was short lived at best. it was three wars ago that our plan to end them was enacted. a small strike team was sent to deliver a bomb the the star of their home planet. a bomb designed to accelerate the life if the star to a mere fraction of what it had remaining. when the humans learned of this, saying they were enraged would be the equivalent to calling fire lukewarm. <newline> <newline> the humans were always a fractured species, never uniting as a whole, splintering apart, forming new empires whenever one fell as if to fill a void. when news of our attack had spread, we awoke a terrifying best. the unthinkable happened. they united. <newline> <newline> humans did not have much in common, but they held an almost religious attachment to their home system. the seething rage of their empires united was unstoppable. world after world, system after system, we were slaughtered, entire planets reduced to ash. i was fleeing to other empires in hope of surviving their genocide. i was captured and sentenced. i, a once mighty king, brought before a mock jury in little more than rags and shackles. <newline> <newline> the sentencing for me and my remaining kin was to be a cruel irony. our sentence would be a shared death with the planet we ourselves had sentenced to death. the humans having long since evacuated their home system to avoid the impending doom. <newline> <newline> they abandoned us here with no way to escape, opening fire on any ships daring enough to attempt a rescue. <newline> <newline> humans no longer inhabit their precious earth'', now it will serve as a tomb and monument to what happens when you attack something they hold dear. a temporary monument until this planet is engulfed byit's sun''.\n"
     ]
    }
   ],
   "source": [
    "print_n_rows(stories, 10, \"human_completions\")"
   ]
  },
  {
   "cell_type": "code",
   "execution_count": 13,
   "metadata": {},
   "outputs": [],
   "source": [
    "raw_stories_path = path.parents[1] / \"datasets\" / \"human_datasets\" / \"stories\" / \"stories_5bins_1000tokens_al.json\"\n",
    "raw_stories = pd.read_json(raw_stories_path)"
   ]
  },
  {
   "cell_type": "code",
   "execution_count": 14,
   "metadata": {},
   "outputs": [
    {
     "name": "stdout",
     "output_type": "stream",
     "text": [
      "`` Overpopulation '' <newline> <newline> The man in the blue suit clicked a small remote in his hand and the screen filled with images of starving children , their eyes like rough marbles pushed not quite far enough into their heads , fantastic , horizon-filling cities that smoked and glowed like a dying fire , and , of course , the typical image of the Tokyo metro with passengers being crammed through the car doors by impassive uniformed men . <newline> <newline> `` It 's reality . A horrible one . The time has come to rectify it , and the hour for half measures is past . We 're in a position to possibly , '' The man in the blue suit paused , dipping his chin in a show of humility , `` save humanity from itself . '' <newline> <newline> The boardroom was silent . Smoke from various cigarettes and cigars drifted over the massive tabletop . Rain pattered on the window panes . <newline> <newline> `` Mental projection , physical control . '' The man in the blue suit clicked his controller again , and now a video of a man walking appeared on the screen . Waves emanated from an unknown source and struck him . He stopped in his tracks . <newline> <newline> `` This is a rough draft of what every man , woman , and child on earth will see . We can tweak the language , of course . '' Click . <newline> <newline> The screen faded to black and a few crisp lines of text in a modern font appeared . <newline> 'Your free trial of Life has ended . Payment , in full , of one life must be completed within five minutes . ' <newline> <newline> The man in the blue suit clicked again . The screen flicked to a scene where the same man was now standing on a city street . He blinked his eyes , staring at the people around him . An old man sat on a bench , waiting for a bus . The original man 's face became distraught . He stared at the old man , perhaps trying to judge just how old he was . His face changed , and his fist clenched . Suddenly , a man walking on the street behind the old man on the bench turned and wrapped his hands around the old man 's throat . A car accelerated , jumping the curb and crushing several people against the wall of a building . A crash of glass was heard and the body of a woman fell down into the street , her head cracking open on the pavement . <newline> <newline> The man in the blue suit clicked the button again , stopping the video . <newline> <newline> `` I think you get the idea . Total chaos for a few years . Maybe even a decade . But then we can rebuild- start over with the knowledge we should have had the first time . And the best part is- '' He leaned onto the table , looking at each of the attendees in turn . `` You all are exempt from the whole thing . '' <newline> <newline> There was a slight pause . A cough . <newline> <newline> `` All those in favor ? '' <newline> <newline> A chorus of 'Aye ' <newline> <newline> `` All those opposed ? '' <newline> <newline> Silence .\n",
      "\n"
     ]
    }
   ],
   "source": [
    "print(raw_stories[\"human_completions\"][0])"
   ]
  },
  {
   "cell_type": "code",
   "execution_count": 15,
   "metadata": {},
   "outputs": [
    {
     "name": "stdout",
     "output_type": "stream",
     "text": [
      "overpopulation'' <newline> <newline> the man in the blue suit clicked a small remote in his hand and the screen filled with images of starving children, their eyes like rough marbles pushed not quite far enough into their heads, fantastic, horizon-filling cities that smoked and glowed like a dying fire, and, of course, the typical image of the tokyo metro with passengers being crammed through the car doors by impassive uniformed men. <newline> <newline>it's reality. a horrible one. the time has come to rectify it, and the hour for half measures is past.we're in a position to possibly,'' the man in the blue suit paused, dipping his chin in a show of humility, save humanity from itself.'' <newline> <newline> the boardroom was silent. smoke from various cigarettes and cigars drifted over the massive tabletop. rain pattered on the window panes. <newline> <newline> mental projection, physical control.'' the man in the blue suit clicked his controller again, and now a video of a man walking appeared on the screen. waves emanated from an unknown source and struck him. he stopped in his tracks. <newline> <newline> this is a rough draft of what every man, woman, and child on earth will see. we can tweak the language, of course.'' click. <newline> <newline> the screen faded to black and a few crisp lines of text in a modern font appeared. <newline>'your free trial of life has ended. payment, in full, of one life must be completed within five minutes.' <newline> <newline> the man in the blue suit clicked again. the screen flicked to a scene where the same man was now standing on a city street. he blinked his eyes, staring at the people around him. an old man sat on a bench, waiting for a bus. the originalman's face became distraught. he stared at the old man, perhaps trying to judge just how old he was. his face changed, and his fist clenched. suddenly, a man walking on the street behind the old man on the bench turned and wrapped his hands around the oldman's throat. a car accelerated, jumping the curb and crushing several people against the wall of a building. a crash of glass was heard and the body of a woman fell down into the street, her head cracking open on the pavement. <newline> <newline> the man in the blue suit clicked the button again, stopping the video. <newline> <newline> i think you get the idea. total chaos for a few years. maybe even a decade. but then we can rebuild- start over with the knowledge we should have had the first time. and the best part is-'' he leaned onto the table, looking at each of the attendees in turn. you all are exempt from the whole thing.'' <newline> <newline> there was a slight pause. a cough. <newline> <newline> all those in favor?'' <newline> <newline> a chorusof'aye' <newline> <newline> all those opposed?'' <newline> <newline> silence.\n"
     ]
    }
   ],
   "source": [
    "print(stories[\"human_completions\"][0])"
   ]
  },
  {
   "cell_type": "markdown",
   "metadata": {},
   "source": [
    "## DailyMail CNN"
   ]
  },
  {
   "cell_type": "code",
   "execution_count": 16,
   "metadata": {},
   "outputs": [],
   "source": [
    "dailymail_cnn = load_data(\"dailymail_cnn\", data_root)"
   ]
  },
  {
   "cell_type": "code",
   "execution_count": 17,
   "metadata": {},
   "outputs": [
    {
     "name": "stdout",
     "output_type": "stream",
     "text": [
      "by . hugo gye . published: . 10:18 est, 9 april 2013 . | . updated: . 12:48 est, 9 april 2013 . harry potter star daniel radcliffe wept today as beloved actor richard griffiths was laid to rest at a church where shakespeare was buried. the hollywood actor was one of 300 mourners paying their respects to the 65-year-old, best known for his roles in withnail and i, pie in the sky and the history boys. mr radcliffe led tributes to his friend during the funeral service at holy trinity church in stratford-upon-avon, saying he made any room 'twice as funny'. laid to rest: pallbearers carrying the coffin of actor richard griffiths at his funeral in stratford-upon-avon . mourners: the actor's harry potter co-star daniel radcliffe was part of the crowd paying their respects . friends: downton abbey creator lord fellowes, left, and actor nigel havers, right, attended the service today . beloved: the 65-year-old actor is known for his roles in withnail and i, harry potter and the history boys . success: veteran star mr griffiths pictured picking up his tony award in new york in 2006. the actor died last week aged 65 . one mourner said: 'daniel was clearly . very fond of richard, as anyone who ever met him was, and was crying . quite openly in church. 'it was a beautiful service and richard would have been touched by how many people turned up to say goodbye. 'richard was a tremendous character . and the service was full of laughter and tears as his life was . remembered with immense warmth and affection.' mr griffiths' 3ft-wide coffin, . especially made to accommodate his bulky frame, entered the church to . the hymn praise my soul the king of heaven. inside the plain order of service, a . portrait of mr griffiths playing hector in the history boys was printed . along with the poem late fragment by raymond carver. his fellow actor paul jesson read an . excerpt from kenneth grahame's wind in the willows before two more poems . read by family friends. former bond girl carmen du sautoy read from ecclesiastes, then tenor graham neal sung danny boy. mr griffiths' agent simon beresford . spoke of his life with the actor and sitcom star penelope wilton read mr . griffiths' favourite edward lear poem, the owl and the pussycat. church: the ceremony took place a holy trinity church, near where mr griffiths lived with his wife heather . young fans: mr griffiths' godson jack whitehall, left, and daniel radcliffe, right, joined their older peers . 'to my beloved uncle monty, chin chin': a vegetable wreath sent by mr griffiths' co-star from withnail and i, richard e. grant . crowd: nigel havers chats to withnail and i director/writer bruce robinson outside the church . saying goodbye: bergerac star john nettles, left, and harry potter actor david bradley, right, were also there . after the congregation sang there is a . green hill far away, former coronation street actor john bowe read from . act four scene one of shakespeare's the tempest. the coffin left the church after the final hymn, thine be the glory, to a recital of bach's brandenburg concertos. comedian jack whitehall, who was mr griffiths' godson, and downton abbey creator lord fellowes also attended the funeral. flowers from dame judi dench and richard e. grant were laid in front of the church. cult favourite: mr griffiths as uncle monty with mr grant in 1987 film withnail and i . recognisable: mr griffiths with co-star stephen campbell moore in the film version of the history boys . mr grant, who starred alongside mr . griffiths in the 1987 cult hit withnail and i, sent a vegetable wreath with a note reading: 'to my beloved . uncle monty, chin chin, all my love richard e. grant.' bergerac star john nettles and nigel . havers also paid their respects alongside mark williams, who played . arthur weasley in the harry potter films. mr griffiths built his reputation as a . young actor treading the boards at the royal shakespeare company in the . warwickshire town. he is survived by heather, his wife of 33 years, who lives in the couple's home in the nearby village of bearley.\n"
     ]
    }
   ],
   "source": [
    "print(dailymail_cnn[\"source\"][20])"
   ]
  },
  {
   "cell_type": "code",
   "execution_count": 18,
   "metadata": {},
   "outputs": [
    {
     "name": "stdout",
     "output_type": "stream",
     "text": [
      "richard griffiths laid to rest at holy trinity church in stratford-upon-avon .\n",
      "daniel radcliffe weeps as he leads tributes to beloved star of withnail and i .\n",
      "nigel havers, lord fellowes and jack whitehall attend moving ceremony .\n",
      "richard e. grant sends card: 'to my beloved .\n",
      "uncle monty, chin chin'\n"
     ]
    }
   ],
   "source": [
    "print(dailymail_cnn[\"human_completions\"][20])"
   ]
  },
  {
   "cell_type": "code",
   "execution_count": 19,
   "metadata": {},
   "outputs": [],
   "source": [
    "raw_dailymail_path = path.parents[1] / \"datasets\" / \"human_datasets\" / \"dailymail_cnn\" / \"raw.ndjson\"\n",
    "raw_dailymail = pd.read_json(raw_dailymail_path, lines=True)"
   ]
  },
  {
   "cell_type": "code",
   "execution_count": 20,
   "metadata": {},
   "outputs": [
    {
     "name": "stdout",
     "output_type": "stream",
     "text": [
      "Cecilia Abadie, a Google Glass explorer, was pulled over on Tuesday and given a ticket .\n",
      "Her violation was ‘driving w/monitor visible to driver'\n",
      "The law prohibits drivers operating a vehicle in which devices, such as televisions, video monitors and others, are visible .\n",
      "GPS devices and parking assist monitors are exempt .\n",
      "Google Glass is a wearable computer with an optical head-mounted display .\n",
      "It is not available on the market yet but is being tested by 'Google Glass Explorers', such as Abadie .\n",
      "Supporters say she should challenge the ticket .\n",
      "However, she was also ticketed for speeding .\n"
     ]
    }
   ],
   "source": [
    "print(raw_dailymail[\"human_completions\"][30])"
   ]
  },
  {
   "cell_type": "code",
   "execution_count": 21,
   "metadata": {},
   "outputs": [
    {
     "name": "stdout",
     "output_type": "stream",
     "text": [
      "Richard Griffiths laid to rest at Holy Trinity church in Stratford-upon-Avon .\n",
      "Daniel Radcliffe weeps as he leads tributes to beloved star of Withnail and I .\n",
      "Nigel Havers, Lord Fellowes and Jack Whitehall attend moving ceremony .\n",
      "Richard E. Grant sends card: 'To my beloved .\n",
      "Uncle Monty, chin chin'\n"
     ]
    }
   ],
   "source": [
    "print(raw_dailymail[\"human_completions\"][20])"
   ]
  }
 ],
 "metadata": {
  "kernelspec": {
   "display_name": "env",
   "language": "python",
   "name": "python3"
  },
  "language_info": {
   "codemirror_mode": {
    "name": "ipython",
    "version": 3
   },
   "file_extension": ".py",
   "mimetype": "text/x-python",
   "name": "python",
   "nbconvert_exporter": "python",
   "pygments_lexer": "ipython3",
   "version": "3.10.12"
  }
 },
 "nbformat": 4,
 "nbformat_minor": 2
}
