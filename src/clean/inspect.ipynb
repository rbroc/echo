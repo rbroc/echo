{
 "cells": [
  {
   "cell_type": "markdown",
   "metadata": {},
   "source": [
    "## Inspect clean HUMAN data"
   ]
  },
  {
   "cell_type": "code",
   "execution_count": 1,
   "metadata": {},
   "outputs": [],
   "source": [
    "import pathlib\n",
    "import pandas as pd "
   ]
  },
  {
   "cell_type": "code",
   "execution_count": 12,
   "metadata": {},
   "outputs": [],
   "source": [
    "path = pathlib.Path.cwd()\n",
    "data_root = path.parents[1] / \"datasets\" / \"human_datasets\""
   ]
  },
  {
   "cell_type": "code",
   "execution_count": 47,
   "metadata": {},
   "outputs": [],
   "source": [
    "def load_data(dataset:str, data_rootdir:pathlib.Path()):\n",
    "    human_path = data_rootdir / dataset / \"data.ndjson\"\n",
    "    human_df = pd.read_json(human_path, lines=True)\n",
    "\n",
    "    return human_df"
   ]
  },
  {
   "cell_type": "code",
   "execution_count": 51,
   "metadata": {},
   "outputs": [],
   "source": [
    "def print_n_rows(df, n_rows, col):\n",
    "    '''print n first rows of a col in df'''\n",
    "    for _, row in df.head(n_rows).iterrows():\n",
    "        col_to_print = row[col]\n",
    "        print(\"_____\")\n",
    "        print(col_to_print)"
   ]
  },
  {
   "cell_type": "markdown",
   "metadata": {},
   "source": [
    "### DailyDialog"
   ]
  },
  {
   "cell_type": "code",
   "execution_count": 49,
   "metadata": {},
   "outputs": [],
   "source": [
    "daily_dialog = load_data(\"dailydialog\", data_root)"
   ]
  },
  {
   "cell_type": "code",
   "execution_count": 55,
   "metadata": {},
   "outputs": [
    {
     "name": "stdout",
     "output_type": "stream",
     "text": [
      "_____\n",
      "A: okay. this trail looks the best. it's a little steep. but i'm sure it will be alright. \n",
      "A:  well. you're the tour guide, i'll follow you. \n",
      "B:  ... what a stink. this place stinks like rotten eggs. \n",
      "A:  that's sulphur you can smell. the whole of taiwan is a volcanic region. that's why taiwan has so many hot springs. it's volcanic activity.the sulfur smoke that you can smell is coming from those fumaroles over there.\n",
      "_____\n",
      "A: today is your birthday. first of all, happy birthday to you!\n",
      "_____\n",
      "A: in my wedding ceremony, where do my parents sit in the church? \n",
      "A:  the bride's parents ' seating arrangement is on the left side of the aisle and the groom's parents is on the right side. \n",
      "B:  do friends of the bride always sit on one side of the church and friends of the groom on the other?\n",
      "_____\n",
      "A: hey, what's the matter? \n",
      "A:  it doesn't matter. i just feel a little dizzy. \n",
      "B:  are you sure that this has nothing to do with sleep?\n"
     ]
    }
   ],
   "source": [
    "print_n_rows(daily_dialog, 4, \"source\")"
   ]
  },
  {
   "cell_type": "code",
   "execution_count": 54,
   "metadata": {},
   "outputs": [
    {
     "name": "stdout",
     "output_type": "stream",
     "text": [
      "_____\n",
      "{'n-turns': 4, 'source-emo': [0, 0, 2, 0], 'comp-emo': 0, 'source-act': [1, 1, 1, 1], 'comp-act': 3}\n",
      "_____\n",
      "{'n-turns': 1, 'source-emo': [4], 'comp-emo': 4, 'source-act': [1], 'comp-act': 1}\n",
      "_____\n",
      "{'n-turns': 3, 'source-emo': [0, 0, 0], 'comp-emo': 0, 'source-act': [2, 1, 2], 'comp-act': 1}\n",
      "_____\n",
      "{'n-turns': 3, 'source-emo': [0, 0, 0], 'comp-emo': 0, 'source-act': [2, 1, 2], 'comp-act': 1}\n"
     ]
    }
   ],
   "source": [
    "print_n_rows(daily_dialog, 4, \"annotations\")"
   ]
  }
 ],
 "metadata": {
  "kernelspec": {
   "display_name": "env",
   "language": "python",
   "name": "python3"
  },
  "language_info": {
   "codemirror_mode": {
    "name": "ipython",
    "version": 3
   },
   "file_extension": ".py",
   "mimetype": "text/x-python",
   "name": "python",
   "nbconvert_exporter": "python",
   "pygments_lexer": "ipython3",
   "version": "3.10.12"
  }
 },
 "nbformat": 4,
 "nbformat_minor": 2
}
