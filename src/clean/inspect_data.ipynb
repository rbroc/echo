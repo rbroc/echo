{
 "cells": [
  {
   "cell_type": "markdown",
   "metadata": {},
   "source": [
    "## Inspect clean HUMAN data"
   ]
  },
  {
   "cell_type": "code",
   "execution_count": 2,
   "metadata": {},
   "outputs": [],
   "source": [
    "import pathlib\n",
    "import pandas as pd "
   ]
  },
  {
   "cell_type": "code",
   "execution_count": 3,
   "metadata": {},
   "outputs": [],
   "source": [
    "path = pathlib.Path.cwd()\n",
    "data_root = path.parents[1] / \"datasets\" / \"human_datasets\""
   ]
  },
  {
   "cell_type": "code",
   "execution_count": 4,
   "metadata": {},
   "outputs": [],
   "source": [
    "from inspect_data import load_clean_data, load_raw_data, print_n_rows, print_rows"
   ]
  },
  {
   "cell_type": "markdown",
   "metadata": {},
   "source": [
    "### DailyDialog"
   ]
  },
  {
   "cell_type": "code",
   "execution_count": 5,
   "metadata": {},
   "outputs": [],
   "source": [
    "daily_dialog = load_clean_data(data_root, \"dailydialog\")\n",
    "raw_daily_dialog = load_raw_data(data_root, \"dailydialog\")"
   ]
  },
  {
   "cell_type": "code",
   "execution_count": 6,
   "metadata": {},
   "outputs": [
    {
     "name": "stdout",
     "output_type": "stream",
     "text": [
      "[INFO]: Printing 'source' column\n",
      "_____\n",
      "A: okay. this trail looks the best. it's a little steep. but i'm sure it will be alright. \n",
      "B: well. you're the tour guide, i'll follow you. \n",
      "A: ... what a stink. this place stinks like rotten eggs. \n",
      "B: that's sulphur you can smell. the whole of taiwan is a volcanic region. that's why taiwan has so many hot springs. it's volcanic activity.the sulfur smoke that you can smell is coming from those fumaroles over there.\n",
      "_____\n",
      "A: today is your birthday. first of all, happy birthday to you!\n",
      "_____\n",
      "A: in my wedding ceremony, where do my parents sit in the church? \n",
      "B: the bride's parents ' seating arrangement is on the left side of the aisle and the groom's parents is on the right side. \n",
      "A: do friends of the bride always sit on one side of the church and friends of the groom on the other?\n",
      "_____\n",
      "A: hey, what's the matter? \n",
      "B: it doesn't matter. i just feel a little dizzy. \n",
      "A: are you sure that this has nothing to do with sleep?\n"
     ]
    }
   ],
   "source": [
    "print_n_rows(daily_dialog, 4, \"source\") # nb \"annotations\" col has the number of turns in the convo and they match!!\n",
    "#print_n_rows(daily_dialog, 4, \"annotations\")"
   ]
  },
  {
   "cell_type": "code",
   "execution_count": 7,
   "metadata": {},
   "outputs": [
    {
     "name": "stdout",
     "output_type": "stream",
     "text": [
      "[INFO]: Printing 'human_completions' column\n",
      "_____\n",
      "A: suddenly the \"great outdoors\" isn't so appealing. let's hike a little faster ...\n",
      "_____\n",
      "B: thank you for coming. we will have dinner outside. eat up!\n",
      "_____\n",
      "B: they usually do.\n",
      "_____\n",
      "B: i don't know.\n"
     ]
    }
   ],
   "source": [
    "print_n_rows(daily_dialog, 4, \"human_completions\")"
   ]
  },
  {
   "cell_type": "code",
   "execution_count": 8,
   "metadata": {},
   "outputs": [
    {
     "name": "stdout",
     "output_type": "stream",
     "text": [
      "A: i have a terrible toothache. \n",
      "B: which tooth is it? \n",
      "A: (pointing) this one here. \n",
      "B: ah, yes. there's big cavity. \n",
      "A: can you fill it? \n",
      "B: i'm afraid not. the tooth is too far gone. it'll have to be taken out. \n",
      "A: then i might as well have it out now.\n",
      "\n",
      "\n",
      "B: you'd better wait. the gums are swollen. take the medicine i prescribe and come back in three days.\n",
      "{'n-turns': 7, 'source-emo': [5, 0, 0, 0, 0, 0, 0], 'comp-emo': 0, 'source-act': [1, 2, 1, 1, 2, 3, 3], 'comp-act': 3}\n"
     ]
    }
   ],
   "source": [
    "n_row = 50\n",
    "print(daily_dialog[\"source\"][n_row])\n",
    "print(\"\\n\")\n",
    "print(daily_dialog[\"human_completions\"][n_row])\n",
    "print(daily_dialog[\"annotations\"][n_row])"
   ]
  },
  {
   "cell_type": "markdown",
   "metadata": {},
   "source": [
    "#### Compare with RAW"
   ]
  },
  {
   "cell_type": "code",
   "execution_count": 9,
   "metadata": {},
   "outputs": [
    {
     "name": "stdout",
     "output_type": "stream",
     "text": [
      "EXAMPLE \n",
      " ____RAW____\n",
      "SOURCE: \n",
      "in my wedding ceremony, where do my parents sit in the church? [EOT] the bride's parents ' seating arrangement is on the left side of the aisle and the groom's parents is on the right side. [EOT] do friends of the bride always sit on one side of the church and friends of the groom on the other?\n",
      "\n",
      "\n",
      "COMPLETION: \n",
      "they usually do.\n",
      "\n",
      "\n",
      "____CLEAN____\n",
      "SOURCE: A: in my wedding ceremony, where do my parents sit in the church? \n",
      "B: the bride's parents ' seating arrangement is on the left side of the aisle and the groom's parents is on the right side. \n",
      "A: do friends of the bride always sit on one side of the church and friends of the groom on the other?\n",
      "\n",
      "\n",
      "COMPLETION: \n",
      "B: they usually do.\n"
     ]
    }
   ],
   "source": [
    "example = 2\n",
    "print(\"EXAMPLE \\n ____RAW____\")\n",
    "print(f\"SOURCE: \\n{raw_daily_dialog['source'][example]}\")\n",
    "print(\"\\n\")\n",
    "print(f\"COMPLETION: \\n{raw_daily_dialog['human_completions'][example]}\")\n",
    "print(\"\\n\")\n",
    "print(\"____CLEAN____\")\n",
    "print(f\"SOURCE: {daily_dialog['source'][example]}\")\n",
    "print(\"\\n\")\n",
    "print(f\"COMPLETION: \\n{daily_dialog['human_completions'][example]}\")"
   ]
  },
  {
   "cell_type": "markdown",
   "metadata": {},
   "source": [
    "## Stories"
   ]
  },
  {
   "cell_type": "code",
   "execution_count": 10,
   "metadata": {},
   "outputs": [],
   "source": [
    "stories = load_clean_data(data_root, \"stories\")\n",
    "raw_stories = load_raw_data(data_root, \"stories\")"
   ]
  },
  {
   "cell_type": "code",
   "execution_count": 11,
   "metadata": {},
   "outputs": [
    {
     "name": "stdout",
     "output_type": "stream",
     "text": [
      "[INFO]: Printing 'source' column\n",
      "_____\n",
      "your free trial of life has ended\n",
      "_____\n",
      "- you either die a hero. . .''\n",
      "_____\n",
      "just like old times, huh?''\n",
      "_____\n",
      "it all happened so suddenly''\n",
      "_____\n",
      "the city at night in the winter.\n",
      "_____\n",
      "write a story about your username\n",
      "_____\n",
      "when the hero becomes the villain\n",
      "_____\n",
      "hit me in the face with emotion.\n",
      "_____\n",
      "writing workshop # 12: happiness\n",
      "_____\n",
      "humans do not inhabit the earth.\n"
     ]
    }
   ],
   "source": [
    "print_n_rows(stories, 10, \"source\")"
   ]
  },
  {
   "cell_type": "markdown",
   "metadata": {},
   "source": [
    "#### Compare with RAW"
   ]
  },
  {
   "cell_type": "code",
   "execution_count": 12,
   "metadata": {},
   "outputs": [
    {
     "name": "stdout",
     "output_type": "stream",
     "text": [
      "EXAMPLE \n",
      " ____RAW____\n",
      "SOURCE: \n",
      "[ WP ] Your free trial of life has ended\n",
      "\n",
      "\n",
      "\n",
      "COMPLETION: \n",
      "`` Overpopulation '' <newline> <newline> The man in the blue suit clicked a small remote in his hand and the screen filled with images of starving children , their eyes like rough marbles pushed not quite far enough into their heads , fantastic , horizon-filling cities that smoked and glowed like a dying fire , and , of course , the typical image of the Tokyo metro with passengers being crammed through the car doors by impassive uniformed men . <newline> <newline> `` It 's reality . A horrible one . The time has come to rectify it , and the hour for half measures is past . We 're in a position to possibly , '' The man in the blue suit paused , dipping his chin in a show of humility , `` save humanity from itself . '' <newline> <newline> The boardroom was silent . Smoke from various cigarettes and cigars drifted over the massive tabletop . Rain pattered on the window panes . <newline> <newline> `` Mental projection , physical control . '' The man in the blue suit clicked his controller again , and now a video of a man walking appeared on the screen . Waves emanated from an unknown source and struck him . He stopped in his tracks . <newline> <newline> `` This is a rough draft of what every man , woman , and child on earth will see . We can tweak the language , of course . '' Click . <newline> <newline> The screen faded to black and a few crisp lines of text in a modern font appeared . <newline> 'Your free trial of Life has ended . Payment , in full , of one life must be completed within five minutes . ' <newline> <newline> The man in the blue suit clicked again . The screen flicked to a scene where the same man was now standing on a city street . He blinked his eyes , staring at the people around him . An old man sat on a bench , waiting for a bus . The original man 's face became distraught . He stared at the old man , perhaps trying to judge just how old he was . His face changed , and his fist clenched . Suddenly , a man walking on the street behind the old man on the bench turned and wrapped his hands around the old man 's throat . A car accelerated , jumping the curb and crushing several people against the wall of a building . A crash of glass was heard and the body of a woman fell down into the street , her head cracking open on the pavement . <newline> <newline> The man in the blue suit clicked the button again , stopping the video . <newline> <newline> `` I think you get the idea . Total chaos for a few years . Maybe even a decade . But then we can rebuild- start over with the knowledge we should have had the first time . And the best part is- '' He leaned onto the table , looking at each of the attendees in turn . `` You all are exempt from the whole thing . '' <newline> <newline> There was a slight pause . A cough . <newline> <newline> `` All those in favor ? '' <newline> <newline> A chorus of 'Aye ' <newline> <newline> `` All those opposed ? '' <newline> <newline> Silence .\n",
      "\n",
      "\n",
      "\n",
      "____CLEAN____\n",
      "SOURCE: your free trial of life has ended\n",
      "\n",
      "\n",
      "COMPLETION: \n",
      "overpopulation'' the man in the blue suit clicked a small remote in his hand and the screen filled with images of starving children, their eyes like rough marbles pushed not quite far enough into their heads, fantastic, horizon-filling cities that smoked and glowed like a dying fire, and, of course, the typical image of the tokyo metro with passengers being crammed through the car doors by impassive uniformed men.it's reality. a horrible one. the time has come to rectify it, and the hour for half measures is past.we're in a position to possibly,'' the man in the blue suit paused, dipping his chin in a show of humility, save humanity from itself.'' the boardroom was silent. smoke from various cigarettes and cigars drifted over the massive tabletop. rain pattered on the window panes. mental projection, physical control.'' the man in the blue suit clicked his controller again, and now a video of a man walking appeared on the screen. waves emanated from an unknown source and struck him. he stopped in his tracks. this is a rough draft of what every man, woman, and child on earth will see. we can tweak the language, of course.'' click. the screen faded to black and a few crisp lines of text in a modern font appeared.'your free trial of life has ended. payment, in full, of one life must be completed within five minutes.' the man in the blue suit clicked again. the screen flicked to a scene where the same man was now standing on a city street. he blinked his eyes, staring at the people around him. an old man sat on a bench, waiting for a bus. the originalman's face became distraught. he stared at the old man, perhaps trying to judge just how old he was. his face changed, and his fist clenched. suddenly, a man walking on the street behind the old man on the bench turned and wrapped his hands around the oldman's throat. a car accelerated, jumping the curb and crushing several people against the wall of a building. a crash of glass was heard and the body of a woman fell down into the street, her head cracking open on the pavement. the man in the blue suit clicked the button again, stopping the video. i think you get the idea. total chaos for a few years. maybe even a decade. but then we can rebuild- start over with the knowledge we should have had the first time. and the best part is-'' he leaned onto the table, looking at each of the attendees in turn. you all are exempt from the whole thing.'' there was a slight pause. a cough. all those in favor?'' a chorusof'aye' all those opposed?'' silence.\n"
     ]
    }
   ],
   "source": [
    "example = 0\n",
    "print(\"EXAMPLE \\n ____RAW____\")\n",
    "print(f\"SOURCE: \\n{raw_stories['source'][example]}\")\n",
    "print(\"\\n\")\n",
    "print(f\"COMPLETION: \\n{raw_stories['human_completions'][example]}\")\n",
    "print(\"\\n\")\n",
    "print(\"____CLEAN____\")\n",
    "print(f\"SOURCE: {stories['source'][example]}\")\n",
    "print(\"\\n\")\n",
    "print(f\"COMPLETION: \\n{stories['human_completions'][example]}\")"
   ]
  },
  {
   "cell_type": "markdown",
   "metadata": {},
   "source": [
    "## DailyMail CNN"
   ]
  },
  {
   "cell_type": "code",
   "execution_count": 13,
   "metadata": {},
   "outputs": [],
   "source": [
    "dailymail_cnn = load_clean_data(data_root, \"dailymail_cnn\")\n",
    "raw_dailymail = load_raw_data(data_root, \"dailymail_cnn\")"
   ]
  },
  {
   "cell_type": "markdown",
   "metadata": {},
   "source": [
    "#### Compare with RAW (normal and weird example)"
   ]
  },
  {
   "cell_type": "code",
   "execution_count": 14,
   "metadata": {},
   "outputs": [
    {
     "name": "stdout",
     "output_type": "stream",
     "text": [
      "WEIRD EXAMPLE \n",
      " ____RAW____\n",
      "By . Hugo Gye . PUBLISHED: . 10:18 EST, 9 April 2013 . | . UPDATED: . 12:48 EST, 9 April 2013 . Harry Potter star Daniel Radcliffe wept today as beloved actor Richard Griffiths was laid to rest at a church where Shakespeare was buried. The Hollywood actor was one of 300 mourners paying their respects to the 65-year-old, best known for his roles in Withnail and I, Pie in the Sky and The History Boys. Mr Radcliffe led tributes to his friend during the funeral service at Holy Trinity church in Stratford-upon-Avon, saying he made any room 'twice as funny'. Laid to rest: Pallbearers carrying the coffin of actor Richard Griffiths at his funeral in Stratford-upon-Avon . Mourners: The actor's Harry Potter co-star Daniel Radcliffe was part of the crowd paying their respects . Friends: Downton Abbey creator Lord Fellowes, left, and actor Nigel Havers, right, attended the service today . Beloved: The 65-year-old actor is known for his roles in Withnail and I, Harry Potter and The History Boys . Success: Veteran star Mr Griffiths pictured picking up his Tony Award in New York in 2006. The actor died last week aged 65 . One mourner said: 'Daniel was clearly . very fond of Richard, as anyone who ever met him was, and was crying . quite openly in church. 'It was a beautiful service and Richard would have been touched by how many people turned up to say goodbye. 'Richard was a tremendous character . and the service was full of laughter and tears as his life was . remembered with immense warmth and affection.' Mr Griffiths' 3ft-wide coffin, . especially made to accommodate his bulky frame, entered the church to . the hymn Praise My Soul The King of Heaven. Inside the plain order of service, a . portrait of Mr Griffiths playing Hector in The History Boys was printed . along with the poem Late Fragment by Raymond Carver. His fellow actor Paul Jesson read an . excerpt from Kenneth Grahame's Wind In The Willows before two more poems . read by family friends. Former Bond girl Carmen Du Sautoy read from Ecclesiastes, then tenor Graham Neal sung Danny Boy. Mr Griffiths' agent Simon Beresford . spoke of his life with the actor and sitcom star Penelope Wilton read Mr . Griffiths' favourite Edward Lear poem, The Owl and the Pussycat. Church: The ceremony took place a Holy Trinity church, near where Mr Griffiths lived with his wife Heather . Young fans: Mr Griffiths' godson Jack Whitehall, left, and Daniel Radcliffe, right, joined their older peers . 'To my beloved Uncle Monty, chin chin': A vegetable wreath sent by Mr Griffiths' co-star from Withnail and I, Richard E. Grant . Crowd: Nigel Havers chats to Withnail and I director/writer Bruce Robinson outside the church . Saying goodbye: Bergerac star John Nettles, left, and Harry Potter actor David Bradley, right, were also there . After the congregation sang There Is A . Green Hill Far Away, former Coronation Street actor John Bowe read from . Act Four Scene One of Shakespeare's The Tempest. The coffin left the church after the final hymn, Thine Be the Glory, to a recital of Bach's Brandenburg Concertos. Comedian Jack Whitehall, who was Mr Griffiths' godson, and Downton Abbey creator Lord Fellowes also attended the funeral. Flowers from Dame Judi Dench and Richard E. Grant were laid in front of the church. Cult favourite: Mr Griffiths as Uncle Monty with Mr Grant in 1987 film Withnail and I . Recognisable: Mr Griffiths with co-star Stephen Campbell Moore in the film version of The History Boys . Mr Grant, who starred alongside Mr . Griffiths in the 1987 cult hit Withnail and I, sent a vegetable wreath with a note reading: 'To my beloved . Uncle Monty, chin chin, all my love Richard E. Grant.' Bergerac star John Nettles and Nigel . Havers also paid their respects alongside Mark Williams, who played . Arthur Weasley in the Harry Potter films. Mr Griffiths built his reputation as a . young actor treading the boards at the Royal Shakespeare Company in the . Warwickshire town. He is survived by Heather, his wife of 33 years, who lives in the couple's home in the nearby village of Bearley.\n",
      "Richard Griffiths laid to rest at Holy Trinity church in Stratford-upon-Avon .\n",
      "Daniel Radcliffe weeps as he leads tributes to beloved star of Withnail and I .\n",
      "Nigel Havers, Lord Fellowes and Jack Whitehall attend moving ceremony .\n",
      "Richard E. Grant sends card: 'To my beloved .\n",
      "Uncle Monty, chin chin'\n",
      "____CLEAN____\n",
      "by. hugo gye. published:. 10:18 est, 9 april 2013. |. updated:. 12:48 est, 9 april 2013. harry potter star daniel radcliffe wept today as beloved actor richard griffiths was laid to rest at a church where shakespeare was buried. the hollywood actor was one of 300 mourners paying their respects to the 65-year-old, best known for his roles in withnail and i, pie in the sky and the history boys. mr radcliffe led tributes to his friend during the funeral service at holy trinity church in stratford-upon-avon, saying he made any room 'twice as funny'. laid to rest: pallbearers carrying the coffin of actor richard griffiths at his funeral in stratford-upon-avon. mourners: the actor's harry potter co-star daniel radcliffe was part of the crowd paying their respects. friends: downton abbey creator lord fellowes, left, and actor nigel havers, right, attended the service today. beloved: the 65-year-old actor is known for his roles in withnail and i, harry potter and the history boys. success: veteran star mr griffiths pictured picking up his tony award in new york in 2006. the actor died last week aged 65. one mourner said: 'daniel was clearly. very fond of richard, as anyone who ever met him was, and was crying. quite openly in church. 'it was a beautiful service and richard would have been touched by how many people turned up to say goodbye. 'richard was a tremendous character. and the service was full of laughter and tears as his life was. remembered with immense warmth and affection.' mr griffiths' 3ft-wide coffin,. especially made to accommodate his bulky frame, entered the church to. the hymn praise my soul the king of heaven. inside the plain order of service, a. portrait of mr griffiths playing hector in the history boys was printed. along with the poem late fragment by raymond carver. his fellow actor paul jesson read an. excerpt from kenneth grahame's wind in the willows before two more poems. read by family friends. former bond girl carmen du sautoy read from ecclesiastes, then tenor graham neal sung danny boy. mr griffiths' agent simon beresford. spoke of his life with the actor and sitcom star penelope wilton read mr. griffiths' favourite edward lear poem, the owl and the pussycat. church: the ceremony took place a holy trinity church, near where mr griffiths lived with his wife heather. young fans: mr griffiths' godson jack whitehall, left, and daniel radcliffe, right, joined their older peers. 'to my beloved uncle monty, chin chin': a vegetable wreath sent by mr griffiths' co-star from withnail and i, richard e. grant. crowd: nigel havers chats to withnail and i director/writer bruce robinson outside the church. saying goodbye: bergerac star john nettles, left, and harry potter actor david bradley, right, were also there. after the congregation sang there is a. green hill far away, former coronation street actor john bowe read from. act four scene one of shakespeare's the tempest. the coffin left the church after the final hymn, thine be the glory, to a recital of bach's brandenburg concertos. comedian jack whitehall, who was mr griffiths' godson, and downton abbey creator lord fellowes also attended the funeral. flowers from dame judi dench and richard e. grant were laid in front of the church. cult favourite: mr griffiths as uncle monty with mr grant in 1987 film withnail and i. recognisable: mr griffiths with co-star stephen campbell moore in the film version of the history boys. mr grant, who starred alongside mr. griffiths in the 1987 cult hit withnail and i, sent a vegetable wreath with a note reading: 'to my beloved. uncle monty, chin chin, all my love richard e. grant.' bergerac star john nettles and nigel. havers also paid their respects alongside mark williams, who played. arthur weasley in the harry potter films. mr griffiths built his reputation as a. young actor treading the boards at the royal shakespeare company in the. warwickshire town. he is survived by heather, his wife of 33 years, who lives in the couple's home in the nearby village of bearley.\n",
      "\n",
      "\n",
      "richard griffiths laid to rest at holy trinity church in stratford-upon-avon.\n",
      "daniel radcliffe weeps as he leads tributes to beloved star of withnail and i.\n",
      "nigel havers, lord fellowes and jack whitehall attend moving ceremony.\n",
      "richard e. grant sends card: 'to my beloved.\n",
      "uncle monty, chin chin'\n"
     ]
    }
   ],
   "source": [
    "weird = 20\n",
    "print(\"WEIRD EXAMPLE \\n ____RAW____\")\n",
    "print(raw_dailymail[\"source\"][weird]) \n",
    "print(raw_dailymail[\"human_completions\"][weird]) \n",
    "\n",
    "print(\"____CLEAN____\")\n",
    "print(dailymail_cnn[\"source\"][weird])\n",
    "print(\"\\n\")\n",
    "print(dailymail_cnn[\"human_completions\"][weird])"
   ]
  },
  {
   "cell_type": "code",
   "execution_count": 21,
   "metadata": {},
   "outputs": [
    {
     "name": "stdout",
     "output_type": "stream",
     "text": [
      "NORMAL EXAMPLE \n",
      " ____RAW____\n",
      "At a time when England manager Roy Hodgson badly needs a speedy start to this Euro 2016 campaign, his captain tried to lift the mood by summoning the spirit of a flying Dutchman. Wayne Rooney was discussing the destructive qualities of Raheem Sterling when he likened him to Marc Overmars, and told how he had taken aside England's teen star to study clips of the former Arsenal and Holland striker. 'Before the World Cup I showed him videos of Marc Overmars because he reminded me of him,' said Rooney. 'He has the potential to be as good as Overmars. Bright future: Raheem Sterling was England's best player during Wednesday's 1-0 win against Norway . Similar: Wayne Rooney believes Sterling (left) shares some of the same qualities as Marc Overmars (right) Captain material: Rooney (left) has admitted showing Sterling videos of Overmars before the World Cup . Danger man: Overmars scared opposition defenders with his pace and trickery in attacking areas . 63.6% - England’s win percentage against Switzerland. They have won 14 of their 22 contests, drawing five and losing just three. They are also unbeaten in their last eight games against the Swiss. 1 - Good news for Roy Hodgson — England have lost just one of their last 13 international matches away from home. 192 - Some bad news for Hodgson. In 192 minutes of football, England have only managed three shots on target with their one goal coming from the penalty spot. 3 - Wayne Rooney looks a good bet to score at any time. The England captain has scored in each of his three appearances against Switzerland. 2 - Only two players have survived from England’s last game against the Swiss — Joe Hart and Jack Wilshere both started that match at Wembley in 2011. 17 - England like playing in Basel. They have won four out of five games in the city and scored 17 goals at an average of 3.4 per game. That includes an 8-1 victory in 1963. 9 - Switzerland have not lost at home for nine matches. Their last defeat on home soil came against Romania in May 2012. Andrew Magee . 'Raheem is a fantastic and quite an unusual player. He can play right across the front line, out wide. Although he's a small lad, he's really strong. The potential he's shown is incredible. He'll be a massive player for us over the next 10 to 15 years and, unfortunately, for Liverpool.' Overmars had terrifying speed and a clinical instinct. Sterling arguably has a greater range of weaponry, but is still only 19 and developing. He is, nevertheless, the brightest spark in Hodgson's post-World Cup gloom. At the St Jakob-Park stadium here on Monday night, England will look to him for creativity. Four years ago, Fabio Capello's England arrived at the same stadium in similar circumstances. The World Cup in South Africa had gone badly and this was the first test for his team away from Wembley. Rooney was mired in front-page scandal at the time but he responded with the opening goal in a 3-1 win, which put Capello in control on the road to Euro 2012. Hodgson could do with the same on his return to Switzerland, where he is still feted for taking them to their first World Cup finals in 28 years in 1994. 'Winning this game does not make a great team in 2016,' said Hodgson. 'Neither does losing it make us a poor team in 2016. We are not in an embryonic stage — we are carrying on — but it is an early stage. We have to make sure after these next two years we are very, very strong.' Wednesday's 1-0 home win over Norway was not enough in itself to settle the anxieties that emerged in Brazil. It is nearly two years since England actually beat any of the teams who qualified for the World Cup. Pivotal moment: Wayne Rooney scores from the penalty spot in England's 1-0 win against Norway . Challenges: Roy Hodgson will be without Daniel Sturridge and potentially Jordan Henderson on Monday . Preparation: Hodgson leads his players in training at St Jakob-Park in Basle on Sunday afternoon . As ever, injuries have eaten into the squad. Striker Daniel Sturridge's withdrawal on Friday was more damaging than the loss of midfield rookie Jack Colback or back-up keeper Ben Foster but at least Hodgson has Danny Welbeck ready to step in. If Jordan Henderson is not fit after twisting an ankle in training on Sunday night it will bring another thorny problem — not least because England have brought only 17 outfield players — and challenge Hodgson's theory that the nation is producing a breed of footballer no longer bound by positions. 'Very few are classic number nines, or tens or sevens or fours or sixes,' Hodgson said. 'They're not stereotyped. They're capable of different things. I've seen the Under-20s play twice and when you watch them you do see a way in which English football is changing. I think back to the academy at Blackburn 20 years ago and the type of players coming through now are different. 'It's difficult to look at an England team at any level and find a player who is not pacey, even a centre back. In the past we had stereotypical players who got by on the quality of their play. Not now.' By the same token, he likes to think the style of his team is less predictable. 'The players we have are very different to the ones we had in 2012,' the manager added. 'We were a passing team. Now we're a dribbling team. We're not a long-ball team any more. We try to pass through the midfield and create openings. We're athletic and pacey and technique is getting better.' Hodgson refuted the accompanying theory that a 67-year-old coach might not be best-equipped to coach such modern footballers. Stepping up: Danny Welbeck looks set to start for the Three Lions after an injury to Daniel Sturridge . Settling : Sterling (left) and his team-mates get used to the pitch on which they will face Switzerland . All smiles: Arsenal team-mates Calum Chambers (left) and Jack Wilshere (centre) share a joke in training . England will play on a Monday for only the 10th time in 45 years when they face Switzerland next week. UEFA have spread out the qualification matches for EURO 2016 as part of their new ‘Week of Football’ concept, with games taking place from Thursday to Tuesday. That means 33 per cent of games now take place at weekends as opposed to just 10 per cent in 2012 qualifying. The final set of fixtures in each group — scheduled for October 2015 — will still kick off simultaneously. England have only played nine Monday games since 1966, but prior to that they were a regular occurrence. Between 1880 and 1927, England played Wales alone 33 times on a Monday. The good news for England fans is their record is good... P...55  W...37  D...11  L...7 Win %...67.3 . 'Either you're a good coach or you're not,' he rapped back. 'Either you know how to put your approach across or not. You just try to make sure the best players are in important places, and those around them complement them. That's how it's been since I started. I don't see any difference at all now to that.' And so, to the puzzle of where precisely to deploy Sterling, who was so impressive at the tip of a diamond in the final 20 minutes against Norway, after Rooney had been replaced. Does he keep him there or move him back to the wing, albeit with freedom to float? The team practised with the diamond midfield at times last week while at St George's Park and, in the absence of Sturridge, England can more easily revert to 4-2-3-1 without threatening Rooney's place. 'There are options,' said Hodgson. 'It's up to us to perform and play well. Is it enough to come here and play 10 behind the ball and sneak a 0-0? No, I'd say it isn't.'\n",
      "\n",
      "\n",
      "Raheem Sterling has the potential to be as good as Marc Overmars according to Wayne Rooney .\n",
      "The Manchester United striker showed Sterling videos of the Dutchman prior to the World Cup .\n",
      "Overmars enjoyed a glittering career with the likes of Arsenal, Ajax and Barcelona before retiring in 2009 .\n",
      "Roy Hodgson could be without Jordan Henderson on Monday .\n",
      "The Three Lions begin their Euro 2016 qualifying campaign against Switzerland at St Jakob-Park in Basle .\n",
      "Hodgson believes his squad is full of versatile players capable of playing in different positions .\n",
      "____CLEAN____\n",
      "at a time when england manager roy hodgson badly needs a speedy start to this euro 2016 campaign, his captain tried to lift the mood by summoning the spirit of a flying dutchman. wayne rooney was discussing the destructive qualities of raheem sterling when he likened him to marc overmars, and told how he had taken aside england's teen star to study clips of the former arsenal and holland striker. 'before the world cup i showed him videos of marc overmars because he reminded me of him,' said rooney. 'he has the potential to be as good as overmars. bright future: raheem sterling was england's best player during wednesday's 1-0 win against norway. similar: wayne rooney believes sterling (left) shares some of the same qualities as marc overmars (right) captain material: rooney (left) has admitted showing sterling videos of overmars before the world cup. danger man: overmars scared opposition defenders with his pace and trickery in attacking areas. 63.6% - england’s win percentage against switzerland. they have won 14 of their 22 contests, drawing five and losing just three. they are also unbeaten in their last eight games against the swiss. 1 - good news for roy hodgson — england have lost just one of their last 13 international matches away from home. 192 - some bad news for hodgson. in 192 minutes of football, england have only managed three shots on target with their one goal coming from the penalty spot. 3 - wayne rooney looks a good bet to score at any time. the england captain has scored in each of his three appearances against switzerland. 2 - only two players have survived from england’s last game against the swiss — joe hart and jack wilshere both started that match at wembley in 2011. 17 - england like playing in basel. they have won four out of five games in the city and scored 17 goals at an average of 3.4 per game. that includes an 8-1 victory in 1963. 9 - switzerland have not lost at home for nine matches. their last defeat on home soil came against romania in may 2012. andrew magee. 'raheem is a fantastic and quite an unusual player. he can play right across the front line, out wide. although he's a small lad, he's really strong. the potential he's shown is incredible. he'll be a massive player for us over the next 10 to 15 years and, unfortunately, for liverpool.' overmars had terrifying speed and a clinical instinct. sterling arguably has a greater range of weaponry, but is still only 19 and developing. he is, nevertheless, the brightest spark in hodgson's post-world cup gloom. at the st jakob-park stadium here on monday night, england will look to him for creativity. four years ago, fabio capello's england arrived at the same stadium in similar circumstances. the world cup in south africa had gone badly and this was the first test for his team away from wembley. rooney was mired in front-page scandal at the time but he responded with the opening goal in a 3-1 win, which put capello in control on the road to euro 2012. hodgson could do with the same on his return to switzerland, where he is still feted for taking them to their first world cup finals in 28 years in 1994. 'winning this game does not make a great team in 2016,' said hodgson. 'neither does losing it make us a poor team in 2016. we are not in an embryonic stage — we are carrying on — but it is an early stage. we have to make sure after these next two years we are very, very strong.' wednesday's 1-0 home win over norway was not enough in itself to settle the anxieties that emerged in brazil. it is nearly two years since england actually beat any of the teams who qualified for the world cup. pivotal moment: wayne rooney scores from the penalty spot in england's 1-0 win against norway. challenges: roy hodgson will be without daniel sturridge and potentially jordan henderson on monday. preparation: hodgson leads his players in training at st jakob-park in basle on sunday afternoon. as ever, injuries have eaten into the squad. striker daniel sturridge's withdrawal on friday was more damaging than the loss of midfield rookie jack colback or back-up keeper ben foster but at least hodgson has danny welbeck ready to step in. if jordan henderson is not fit after twisting an ankle in training on sunday night it will bring another thorny problem — not least because england have brought only 17 outfield players — and challenge hodgson's theory that the nation is producing a breed of footballer no longer bound by positions. 'very few are classic number nines, or tens or sevens or fours or sixes,' hodgson said. 'they're not stereotyped. they're capable of different things. i've seen the under-20s play twice and when you watch them you do see a way in which english football is changing. i think back to the academy at blackburn 20 years ago and the type of players coming through now are different. 'it's difficult to look at an england team at any level and find a player who is not pacey, even a centre back. in the past we had stereotypical players who got by on the quality of their play. not now.' by the same token, he likes to think the style of his team is less predictable. 'the players we have are very different to the ones we had in 2012,' the manager added. 'we were a passing team. now we're a dribbling team. we're not a long-ball team any more. we try to pass through the midfield and create openings. we're athletic and pacey and technique is getting better.' hodgson refuted the accompanying theory that a 67-year-old coach might not be best-equipped to coach such modern footballers. stepping up: danny welbeck looks set to start for the three lions after an injury to daniel sturridge. settling : sterling (left) and his team-mates get used to the pitch on which they will face switzerland. all smiles: arsenal team-mates calum chambers (left) and jack wilshere (centre) share a joke in training. england will play on a monday for only the 10th time in 45 years when they face switzerland next week. uefa have spread out the qualification matches for euro 2016 as part of their new ‘week of football’ concept, with games taking place from thursday to tuesday. that means 33 per cent of games now take place at weekends as opposed to just 10 per cent in 2012 qualifying. the final set of fixtures in each group — scheduled for october 2015 — will still kick off simultaneously. england have only played nine monday games since 1966, but prior to that they were a regular occurrence. between 1880 and 1927, england played wales alone 33 times on a monday. the good news for england fans is their record is good... p...55  w...37  d...11  l...7 win %...67.3. 'either you're a good coach or you're not,' he rapped back. 'either you know how to put your approach across or not. you just try to make sure the best players are in important places, and those around them complement them. that's how it's been since i started. i don't see any difference at all now to that.' and so, to the puzzle of where precisely to deploy sterling, who was so impressive at the tip of a diamond in the final 20 minutes against norway, after rooney had been replaced. does he keep him there or move him back to the wing, albeit with freedom to float? the team practised with the diamond midfield at times last week while at st george's park and, in the absence of sturridge, england can more easily revert to 4-2-3-1 without threatening rooney's place. 'there are options,' said hodgson. 'it's up to us to perform and play well. is it enough to come here and play 10 behind the ball and sneak a 0-0? no, i'd say it isn't.'\n",
      "\n",
      "\n",
      "raheem sterling has the potential to be as good as marc overmars according to wayne rooney.\n",
      "the manchester united striker showed sterling videos of the dutchman prior to the world cup.\n",
      "overmars enjoyed a glittering career with the likes of arsenal, ajax and barcelona before retiring in 2009.\n",
      "roy hodgson could be without jordan henderson on monday.\n",
      "the three lions begin their euro 2016 qualifying campaign against switzerland at st jakob-park in basle.\n",
      "hodgson believes his squad is full of versatile players capable of playing in different positions.\n"
     ]
    }
   ],
   "source": [
    "normal = 40\n",
    "print(\"NORMAL EXAMPLE \\n ____RAW____\")\n",
    "print(raw_dailymail[\"source\"][normal])\n",
    "print(\"\\n\")\n",
    "print(raw_dailymail[\"human_completions\"][normal])\n",
    "\n",
    "print(\"____CLEAN____\")\n",
    "print(dailymail_cnn[\"source\"][normal])\n",
    "print(\"\\n\")\n",
    "print(dailymail_cnn[\"human_completions\"][normal])"
   ]
  },
  {
   "cell_type": "markdown",
   "metadata": {},
   "source": [
    "## MRPC"
   ]
  },
  {
   "cell_type": "code",
   "execution_count": 16,
   "metadata": {},
   "outputs": [],
   "source": [
    "mrpc = load_clean_data(data_root, \"mrpc\")\n",
    "raw_mrpc = load_raw_data(data_root, \"mrpc\")"
   ]
  },
  {
   "cell_type": "code",
   "execution_count": 17,
   "metadata": {},
   "outputs": [
    {
     "name": "stdout",
     "output_type": "stream",
     "text": [
      "EXAMPLE \n",
      " ____RAW____\n",
      "SOURCE: The University of Michigan released a new undergraduate admission process Thursday, dropping a point system the U.S. Supreme Court found unconstitutional in June.\n",
      "\n",
      "\n",
      "COMPLETION: [['The University of Michigan released today a new admissions policy after the U.S. Supreme Court struck down in June the way it previously admitted undergraduates.']]\n",
      "____CLEAN____\n",
      "SOURCE: the university of michigan released a new undergraduate admission process thursday, dropping a point system the u.s. supreme court found unconstitutional in june.\n",
      "\n",
      "\n",
      "COMPLETION: the university of michigan released today a new admissions policy after the u.s. supreme court struck down in june the way it previously admitted undergraduates.\n"
     ]
    }
   ],
   "source": [
    "example = 40\n",
    "print(\"EXAMPLE \\n ____RAW____\")\n",
    "print(f\"SOURCE: {raw_mrpc['source'][example]}\")\n",
    "print(\"\\n\")\n",
    "print(f\"COMPLETION: {raw_mrpc['human_completions'][example]}\")\n",
    "\n",
    "print(\"____CLEAN____\")\n",
    "print(f\"SOURCE: {mrpc['source'][example]}\")\n",
    "print(\"\\n\")\n",
    "print(f\"COMPLETION: {mrpc['human_completions'][example]}\")"
   ]
  }
 ],
 "metadata": {
  "kernelspec": {
   "display_name": "env",
   "language": "python",
   "name": "python3"
  },
  "language_info": {
   "codemirror_mode": {
    "name": "ipython",
    "version": 3
   },
   "file_extension": ".py",
   "mimetype": "text/x-python",
   "name": "python",
   "nbconvert_exporter": "python",
   "pygments_lexer": "ipython3",
   "version": "3.10.12"
  }
 },
 "nbformat": 4,
 "nbformat_minor": 2
}
