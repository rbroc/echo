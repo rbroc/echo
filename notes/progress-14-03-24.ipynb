{
 "cells": [
  {
   "cell_type": "markdown",
   "metadata": {},
   "source": [
    "# Echo Meeting 13th of February 2024"
   ]
  },
  {
   "cell_type": "code",
   "execution_count": 3,
   "metadata": {},
   "outputs": [],
   "source": [
    "import pandas as pd"
   ]
  },
  {
   "cell_type": "markdown",
   "metadata": {},
   "source": [
    "## Overview\n",
    "## Notebook Overview\n",
    "This notebook has the following sections: \n",
    "1. [Landing on Prompts](#1-landing-on-prompts)\n",
    "2. [Generating Data](#2-generating-data)\n",
    "3. [Length Checking](#3-length-checking)\n",
    "4. [Distance Plots](#4)\n",
    "\n",
    "### (1) Landing on Prompts\n",
    "* \"dailymail_cnn_21\": \"summarize this in a few sentences: \"\n",
    "* \"mrpc_21\": \"paraphrase this: \"\n",
    "* \"stories_21\": \"write a story based on this: \"\n",
    "* \"stories_22\": \"continue the story: \"\n",
    "* \"dailydialog_21\": \"continue the conversation between A and B by writing a single response to the latest speaker. write only a concise response and nothing else: \"\n",
    "\n",
    "As we talked about, these prompts should resemble what a regular user would write (i.e., no \"prompt engineering\") - maybe with the exception of dailydialog.\n",
    "\n",
    "### (2) Generating Data\n",
    "Data has been generated with `vLLM` for all of the above prompts for the temperatures 1, 1.5, 2 for models: \n",
    "1. llama-chat 7b (meta-llama/Llama-2-7b-chat-hf)\n",
    "2. beluga 7b (stabilityai/StableBeluga-7B)\n",
    "3. mistral 7b (mistralai/Mistral-7B-Instruct-v0.2)\n",
    "4. llama-chat 13b (meta-llama/Llama-2-13b-chat-hf)\n",
    "\n",
    "Higher temperatures (already at 2) seem to break generation more easily (more about this later!). We could consider whether we want greedy decoding (temperature = 0) also."
   ]
  },
  {
   "cell_type": "markdown",
   "metadata": {},
   "source": [
    "### (3) Length Checking"
   ]
  },
  {
   "cell_type": "code",
   "execution_count": 1,
   "metadata": {},
   "outputs": [],
   "source": [
    "## insert code here"
   ]
  },
  {
   "cell_type": "markdown",
   "metadata": {},
   "source": [
    "#### (4) Distance Plot"
   ]
  },
  {
   "cell_type": "code",
   "execution_count": 2,
   "metadata": {},
   "outputs": [],
   "source": []
  },
  {
   "cell_type": "markdown",
   "metadata": {},
   "source": [
    "#### (5) Future Work\n",
    "* Setting up a classifier pipeline (XGBOOST)? I have been looking at little at Ida's code already :))\n",
    "* Experimental Design (NB. exam period aka May will be busy!)"
   ]
  }
 ],
 "metadata": {
  "kernelspec": {
   "display_name": "env",
   "language": "python",
   "name": "python3"
  },
  "language_info": {
   "codemirror_mode": {
    "name": "ipython",
    "version": 3
   },
   "file_extension": ".py",
   "mimetype": "text/x-python",
   "name": "python",
   "nbconvert_exporter": "python",
   "pygments_lexer": "ipython3",
   "version": "3.10.12"
  }
 },
 "nbformat": 4,
 "nbformat_minor": 2
}
