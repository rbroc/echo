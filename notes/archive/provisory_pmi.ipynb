{
 "cells": [
  {
   "cell_type": "code",
   "execution_count": null,
   "metadata": {},
   "outputs": [],
   "source": [
    "# provisory pmi"
   ]
  },
  {
   "cell_type": "code",
   "execution_count": null,
   "metadata": {},
   "outputs": [],
   "source": [
    "import pandas as pd\n",
    "from sklearn.feature_extraction.text import CountVectorizer\n",
    "from math import log\n",
    "import numpy as np\n",
    "\n",
    "def calculate_pmi(sources, responses):\n",
    "    # Vectorize the sources and responses\n",
    "    vectorizer_source = CountVectorizer()\n",
    "    vectorizer_response = CountVectorizer()\n",
    "    X_source = vectorizer_source.fit_transform(sources)\n",
    "    X_response = vectorizer_response.fit_transform(responses)\n",
    "\n",
    "    # Compute word frequencies in sources and responses\n",
    "    source_freq = np.array(X_source.sum(axis=0))[0]\n",
    "    response_freq = np.array(X_response.sum(axis=0))[0]\n",
    "\n",
    "    # Compute co-occurrences of words in source and response pairs\n",
    "    co_occurrences = (X_source.T * X_response)\n",
    "\n",
    "    # Convert to array\n",
    "    co_occurrences = co_occurrences.toarray()\n",
    "\n",
    "    # Initialize PMI matrix\n",
    "    pmi = np.zeros_like(co_occurrences, dtype=float)\n",
    "\n",
    "    # Calculate PMI values\n",
    "    total_occurrences = co_occurrences.sum()\n",
    "    for i in range(co_occurrences.shape[0]):\n",
    "        for j in range(co_occurrences.shape[1]):\n",
    "            if co_occurrences[i,j] > 0:\n",
    "                pmi[i,j] = log(total_occurrences * co_occurrences[i,j] / (source_freq[i] * response_freq[j]))\n",
    "\n",
    "    # Get feature names (words)\n",
    "    source_words = vectorizer_source.get_feature_names_out()\n",
    "    response_words = vectorizer_response.get_feature_names_out()\n",
    "\n",
    "    # Convert PMI matrix to DataFrame for better visualization\n",
    "    pmi_df = pd.DataFrame(pmi, index=source_words, columns=response_words)\n",
    "\n",
    "    return pmi_df\n",
    "\n",
    "# Testing the function\n",
    "prompts = [\"write about love\", \"you love me\", \"write a romantic love scene that ends bad\"]\n",
    "stories = [\"sunsets are romantic\", \"i love sunsets\", \"they kissed at the evening's doors but that was the last of their sunsets\"]\n",
    "\n",
    "pmi_df = calculate_pmi(prompts, stories)\n",
    "\n",
    "print(pmi_df.loc['love', 'sunsets'])"
   ]
  }
 ],
 "metadata": {
  "kernelspec": {
   "display_name": "Python 3.9.5 ('tensorflow')",
   "language": "python",
   "name": "python3"
  },
  "language_info": {
   "name": "python",
   "version": "3.9.5"
  },
  "orig_nbformat": 4,
  "vscode": {
   "interpreter": {
    "hash": "1ae3380364674281832e5ce4a4f89337acdd570693f07d8c96b715a5197d788f"
   }
  }
 },
 "nbformat": 4,
 "nbformat_minor": 2
}
